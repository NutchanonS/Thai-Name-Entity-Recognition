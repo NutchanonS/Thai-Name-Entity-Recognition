{
  "nbformat": 4,
  "nbformat_minor": 0,
  "metadata": {
    "colab": {
      "name": "Mini2_NER_Bert_BY_BEUK.ipynb",
      "private_outputs": true,
      "provenance": [],
      "machine_shape": "hm",
      "collapsed_sections": [
        "dYfvRnCJZZre"
      ]
    },
    "kernelspec": {
      "name": "python3",
      "display_name": "Python 3"
    },
    "language_info": {
      "name": "python"
    },
    "accelerator": "GPU"
  },
  "cells": [
    {
      "cell_type": "code",
      "source": [
        "from google.colab import drive\n",
        "drive.mount('/content/drive')"
      ],
      "metadata": {
        "id": "dey-gc5QSGsE"
      },
      "execution_count": null,
      "outputs": []
    },
    {
      "cell_type": "code",
      "source": [
        "import os\n",
        "import numpy as np\n",
        "import pandas as pd\n",
        "\n",
        "import tensorflow as tf\n",
        "from tensorflow import keras\n",
        "from tensorflow.keras import layers"
      ],
      "metadata": {
        "id": "SvLvuTfKSHs1"
      },
      "execution_count": null,
      "outputs": []
    },
    {
      "cell_type": "code",
      "source": [
        "root = f'/content/drive/MyDrive/Colab Notebooks/SuperAI2_Hackathon4/'"
      ],
      "metadata": {
        "id": "U0GNh6nVSTJX"
      },
      "execution_count": null,
      "outputs": []
    },
    {
      "cell_type": "code",
      "source": [
        "path_ne_csv = os.path.join(root,'ne_sample_submission.csv')\n",
        "path_ne_txt = os.path.join(root,'ne_test.txt')"
      ],
      "metadata": {
        "id": "QDVtqJv3T9B8"
      },
      "execution_count": null,
      "outputs": []
    },
    {
      "cell_type": "code",
      "source": [
        "with open('/content/drive/MyDrive/Colab Notebooks/SuperAI2_Hackathon4/ne_test.txt') as f:\n",
        "    contents = f.read()\n",
        "words = contents.split(\"\\n\")\n",
        "wordss = words[:69561]   #deleted 2 last spaces\n",
        "\n",
        "wordsss = np.array(wordss)\n",
        "word_list = list(wordsss[0:])\n",
        "\n",
        "index = 0\n",
        "for word in word_list :\n",
        "    if word == '' : word_list[index] = ' '\n",
        "    index += 1"
      ],
      "metadata": {
        "id": "2_2ktd8haBGJ"
      },
      "execution_count": null,
      "outputs": []
    },
    {
      "cell_type": "markdown",
      "source": [
        "# NER for Thai"
      ],
      "metadata": {
        "id": "jOkriLIdTY_9"
      }
    },
    {
      "cell_type": "markdown",
      "source": [
        "## load dataset"
      ],
      "metadata": {
        "id": "1sWIeGHKZF0_"
      }
    },
    {
      "cell_type": "markdown",
      "source": [
        "### import pre-trian"
      ],
      "metadata": {
        "id": "FlchPmMhgk4r"
      }
    },
    {
      "cell_type": "code",
      "source": [
        "!pip -q install torch==1.5.0 torchtext==0.4.0 torchvision==0.6.0\n",
        "!pip -q install transformers==3.5.0 thai2transformers==0.1.2"
      ],
      "metadata": {
        "id": "UCjmut4QimrS"
      },
      "execution_count": null,
      "outputs": []
    },
    {
      "cell_type": "code",
      "source": [
        "! pip install -q datasets transformers[sentencepiece] simpletransformers"
      ],
      "metadata": {
        "id": "6d2F_RuyTZ4V"
      },
      "execution_count": null,
      "outputs": []
    },
    {
      "cell_type": "code",
      "source": [
        "# ! wget https://github.com/kobkrit/datasets/raw/main/AIFORTHAI-LST20Corpus.tar.gz"
      ],
      "metadata": {
        "id": "QMcqcGKaTeYl"
      },
      "execution_count": null,
      "outputs": []
    },
    {
      "cell_type": "code",
      "source": [
        "# ! tar -xvzf AIFORTHAI-LST20Corpus.tar.gz"
      ],
      "metadata": {
        "id": "YeyhLAgfTh3d"
      },
      "execution_count": null,
      "outputs": []
    },
    {
      "cell_type": "code",
      "source": [
        "from datasets import load_dataset\n",
        "lst20 = load_dataset(\"lst20\", data_dir=\"/content/drive/MyDrive/LST20_Corpus\")"
      ],
      "metadata": {
        "id": "eeYepC9XTvbn"
      },
      "execution_count": null,
      "outputs": []
    },
    {
      "cell_type": "code",
      "source": [
        "lst20"
      ],
      "metadata": {
        "id": "NKhRUpHWTydh"
      },
      "execution_count": null,
      "outputs": []
    },
    {
      "cell_type": "markdown",
      "source": [
        "## import data"
      ],
      "metadata": {
        "id": "EmWyQlTsZMeO"
      }
    },
    {
      "cell_type": "code",
      "source": [
        "import pandas as pd\n",
        "train_df = pd.DataFrame(lst20['train'])\n",
        "validation_df = pd.DataFrame(lst20['validation'])\n",
        "test_df = pd.DataFrame(lst20['test'])"
      ],
      "metadata": {
        "id": "-xhMHVg8T1iD"
      },
      "execution_count": null,
      "outputs": []
    },
    {
      "cell_type": "code",
      "source": [
        "train_df.head()"
      ],
      "metadata": {
        "id": "LBxvhx9qURUu"
      },
      "execution_count": null,
      "outputs": []
    },
    {
      "cell_type": "code",
      "source": [
        "validation_df.head()"
      ],
      "metadata": {
        "id": "vMgd3Dj_UDFw"
      },
      "execution_count": null,
      "outputs": []
    },
    {
      "cell_type": "code",
      "source": [
        "test_df.head()"
      ],
      "metadata": {
        "id": "g3A2zyE-UMuA"
      },
      "execution_count": null,
      "outputs": []
    },
    {
      "cell_type": "code",
      "source": [
        "# See tags from https://github.com/huggingface/datasets/blob/master/datasets/lst20/lst20.py\n",
        "_POS_TAGS = [\"NN\", \"VV\", \"PU\", \"CC\", \"PS\", \"AX\", \"AV\", \"FX\", \"NU\", \"AJ\", \"CL\", \"PR\", \"NG\", \"PA\", \"XX\", \"IJ\"]\n",
        "_NER_TAGS = [\n",
        "        \"O\",\n",
        "        \"B_BRN\",\n",
        "        \"B_DES\",\n",
        "        \"B_DTM\",\n",
        "        \"B_LOC\",\n",
        "        \"B_MEA\",\n",
        "        \"B_NUM\",\n",
        "        \"B_ORG\",\n",
        "        \"B_PER\",\n",
        "        \"B_TRM\",\n",
        "        \"B_TTL\",\n",
        "        \"I_BRN\",\n",
        "        \"I_DES\",\n",
        "        \"I_DTM\",\n",
        "        \"I_LOC\",\n",
        "        \"I_MEA\",\n",
        "        \"I_NUM\",\n",
        "        \"I_ORG\",\n",
        "        \"I_PER\",\n",
        "        \"I_TRM\",\n",
        "        \"I_TTL\",\n",
        "        \"E_BRN\",\n",
        "        \"E_DES\",\n",
        "        \"E_DTM\",\n",
        "        \"E_LOC\",\n",
        "        \"E_MEA\",\n",
        "        \"E_NUM\",\n",
        "        \"E_ORG\",\n",
        "        \"E_PER\",\n",
        "        \"E_TRM\",\n",
        "        \"E_TTL\",\n",
        "    ]\n",
        "_CLAUSE_TAGS = [\"O\", \"B_CLS\", \"I_CLS\", \"E_CLS\"]"
      ],
      "metadata": {
        "id": "VZpwWdUjUVlP"
      },
      "execution_count": null,
      "outputs": []
    },
    {
      "cell_type": "code",
      "source": [
        "list(map(lambda x: _NER_TAGS[x], train_df[\"ner_tags\"][0]))"
      ],
      "metadata": {
        "id": "rn4cQsAbUXYl"
      },
      "execution_count": null,
      "outputs": []
    },
    {
      "cell_type": "markdown",
      "source": [
        "## preprocessing"
      ],
      "metadata": {
        "id": "tmTdig4JZUDl"
      }
    },
    {
      "cell_type": "code",
      "source": [
        "def convert_to_simple_transformer_format(df, field_name, tags):\n",
        "  sentence_id = []\n",
        "  words = []\n",
        "  labels = []\n",
        "\n",
        "  #Limit at 1000 rows for speed.\n",
        "  for (idx, r) in df[:1000].iterrows():\n",
        "    # print(idx)\n",
        "    for (i, t) in enumerate(r['tokens']):\n",
        "      # print(i,t)\n",
        "      sentence_id.append(idx)\n",
        "      words.append(t)\n",
        "      labels.append(tags[r[field_name][i]])\n",
        "\n",
        "  return pd.DataFrame(\n",
        "      {\"sentence_id\": sentence_id, \"words\": words, \"labels\": labels}\n",
        "  )\n"
      ],
      "metadata": {
        "id": "mPP58SGgUiDo"
      },
      "execution_count": null,
      "outputs": []
    },
    {
      "cell_type": "code",
      "source": [
        "train_ = convert_to_simple_transformer_format(train_df, \"ner_tags\", _NER_TAGS)\n",
        "train_.head()"
      ],
      "metadata": {
        "id": "Iq6sOMhTW06s"
      },
      "execution_count": null,
      "outputs": []
    },
    {
      "cell_type": "code",
      "source": [
        "validation_ = convert_to_simple_transformer_format(validation_df, \"ner_tags\", _NER_TAGS)\n",
        "validation_.head()"
      ],
      "metadata": {
        "id": "WFkMeclmXtrP"
      },
      "execution_count": null,
      "outputs": []
    },
    {
      "cell_type": "code",
      "source": [
        "test_ = convert_to_simple_transformer_format(test_df, \"ner_tags\", _NER_TAGS)\n",
        "test_.head()"
      ],
      "metadata": {
        "id": "DiDP8HNUZhAa"
      },
      "execution_count": null,
      "outputs": []
    },
    {
      "cell_type": "markdown",
      "source": [
        "## padded_batch"
      ],
      "metadata": {
        "id": "yTrbvo7NkDkn"
      }
    },
    {
      "cell_type": "code",
      "source": [
        "train_[['words','labels'][:]]"
      ],
      "metadata": {
        "id": "06c6tlarro29"
      },
      "execution_count": null,
      "outputs": []
    },
    {
      "cell_type": "code",
      "source": [
        "train_list = []\n",
        "for d in zip(train_['words'].iteritems(), train_['labels'].iteritems()):\n",
        "  train_list.append([d[0][1], d[1][1]])"
      ],
      "metadata": {
        "id": "dYY5SoaJkmzV"
      },
      "execution_count": null,
      "outputs": []
    },
    {
      "cell_type": "code",
      "source": [
        "train_list"
      ],
      "metadata": {
        "id": "YqFbsem7ue6X"
      },
      "execution_count": null,
      "outputs": []
    },
    {
      "cell_type": "code",
      "source": [
        "# def map_record_to_training_data(record):\n",
        "#   print(record)\n",
        "\n",
        "# def lowercase_and_convert_to_ids(tokens):\n",
        "#   tokens = tf.strings.lower(tokens)\n",
        "#   return lookup_layer(tokens)"
      ],
      "metadata": {
        "id": "OeF7T7sWs9Fo"
      },
      "execution_count": null,
      "outputs": []
    },
    {
      "cell_type": "code",
      "source": [
        "train_list = tf.data.Dataset.from_tensor_slices(train_list)"
      ],
      "metadata": {
        "id": "4zC43Qd4yCaS"
      },
      "execution_count": null,
      "outputs": []
    },
    {
      "cell_type": "code",
      "source": [
        "batch_size = 16\n",
        "\n",
        "train_dataset = (\n",
        "    train_list\n",
        "    .padded_batch(batch_size)\n",
        ")\n",
        "\n",
        "# val_dataset = (\n",
        "#     validation_.map(map_record_to_training_data)\n",
        "#     .padded_batch(batch_size)\n",
        "# )\n",
        "\n",
        "# test_dataset = (\n",
        "#     test_.map(map_record_to_training_data)\n",
        "#     .padded_batch(batch_size)\n",
        "# )"
      ],
      "metadata": {
        "id": "6U2LZIWykM18"
      },
      "execution_count": null,
      "outputs": []
    },
    {
      "cell_type": "markdown",
      "source": [
        "## build model"
      ],
      "metadata": {
        "id": "dYfvRnCJZZre"
      }
    },
    {
      "cell_type": "markdown",
      "source": [
        "## airesearch/wangchanberta-base-att-spm-uncased"
      ],
      "metadata": {
        "id": "o4ViDKfCLqZ6"
      }
    },
    {
      "cell_type": "code",
      "source": [
        "import torch\n",
        "import pandas as pd\n",
        "from simpletransformers.ner import NERModel, NERArgs\n",
        "from transformers import AutoTokenizer, AutoModelForMaskedLM\n",
        "#transformers\n",
        "from transformers import (\n",
        "    CamembertTokenizer,\n",
        "    AutoTokenizer,\n",
        "    AutoModel,\n",
        "    AutoModelForMaskedLM,\n",
        "    AutoModelForSequenceClassification,\n",
        "    AutoModelForTokenClassification,\n",
        "    TrainingArguments,\n",
        "    Trainer,\n",
        "    pipeline,\n",
        ")\n",
        "\n",
        "\n",
        "#thai2transformers\n",
        "import thai2transformers\n",
        "from thai2transformers.preprocess import process_transformers\n",
        "from thai2transformers.metrics import (\n",
        "    classification_metrics, \n",
        "    multilabel_classification_metrics,\n",
        ")\n",
        "from thai2transformers.tokenizers import (\n",
        "    ThaiRobertaTokenizer,\n",
        "    ThaiWordsNewmmTokenizer,\n",
        "    ThaiWordsSyllableTokenizer,\n",
        "    FakeSefrCutTokenizer,\n",
        "    SEFR_SPLIT_TOKEN\n",
        ")\n",
        "\n",
        "\n",
        "\n",
        "# Configure the model\n",
        "ner_args = NERArgs()\n",
        "ner_args.train_batch_size = 16\n",
        "ner_args.evaluate_during_training = True\n",
        "ner_args.overwrite_output_dir = True\n",
        "ner_args.num_train_epochs = 5\n",
        "\n",
        "tokenizer = AutoTokenizer.from_pretrained(\"airesearch/wangchanberta-base-att-spm-uncased\")\n",
        "\n",
        "model = NERModel(\n",
        "    \"camembert\", \"airesearch/wangchanberta-base-att-spm-uncased\", \n",
        "    # \"bert\", \"monsoon-nlp/bert-base-thai\", \n",
        "    args = ner_args, \n",
        "    use_cuda = torch.cuda.is_available(), \n",
        "    labels = _NER_TAGS\n",
        "    # model_args.lazy_loading = True\n",
        "\n",
        ")\n",
        "\n",
        "# Train the model\n",
        "model.train_model(train_, eval_data=validation_, verbose=True)"
      ],
      "metadata": {
        "id": "2Zwfi9EHY_VX"
      },
      "execution_count": null,
      "outputs": []
    },
    {
      "cell_type": "markdown",
      "source": [
        "## eval test"
      ],
      "metadata": {
        "id": "BvDza6u0aeUq"
      }
    },
    {
      "cell_type": "code",
      "source": [
        "model.save_pretrained('/content/drive/MyDrive/Colab Notebooks/Model')"
      ],
      "metadata": {
        "id": "G0nzg5TEyGZh"
      },
      "execution_count": null,
      "outputs": []
    },
    {
      "cell_type": "code",
      "source": [
        "# Evaluate the model\n",
        "result, model_outputs, preds_list = model.eval_model(test_)"
      ],
      "metadata": {
        "id": "5NnaN6KnZd0h"
      },
      "execution_count": null,
      "outputs": []
    },
    {
      "cell_type": "code",
      "source": [
        "result"
      ],
      "metadata": {
        "id": "ywz9H8iUgwt_"
      },
      "execution_count": null,
      "outputs": []
    },
    {
      "cell_type": "code",
      "source": [
        "test__ = list(test_['words'])\n",
        "test__"
      ],
      "metadata": {
        "id": "O3Pzhr9rgxAd"
      },
      "execution_count": null,
      "outputs": []
    },
    {
      "cell_type": "code",
      "source": [
        "predictions, raw_outputs = model.predict(test__)"
      ],
      "metadata": {
        "id": "5317YwqohFRQ"
      },
      "execution_count": null,
      "outputs": []
    },
    {
      "cell_type": "code",
      "source": [
        "predictions"
      ],
      "metadata": {
        "id": "WarCy6ViUnNi"
      },
      "execution_count": null,
      "outputs": []
    },
    {
      "cell_type": "code",
      "source": [
        "for i, s in enumerate(predictions):\n",
        "  print(i,s)"
      ],
      "metadata": {
        "id": "pySh4FUOkH9S"
      },
      "execution_count": null,
      "outputs": []
    },
    {
      "cell_type": "code",
      "source": [
        "result,predictions, raw_outputs = model.predict(word_list)"
      ],
      "metadata": {
        "id": "ACJf-4zaq-4N"
      },
      "execution_count": null,
      "outputs": []
    },
    {
      "cell_type": "markdown",
      "source": [
        "## BI-LSTM"
      ],
      "metadata": {
        "id": "oXP0t1VhAh99"
      }
    },
    {
      "cell_type": "code",
      "source": [
        "raw_outputs_df=pd.DataFrame(raw_outputs)\n",
        "print(raw_outputs)"
      ],
      "metadata": {
        "id": "M-J54FSNB1s_"
      },
      "execution_count": null,
      "outputs": []
    },
    {
      "cell_type": "code",
      "source": [
        "from keras.models import Sequential\n",
        "from keras.layers import Dense, LSTM, InputLayer, Bidirectional, TimeDistributed, Embedding, Activation\n",
        "from tensorflow.keras.optimizers import Adam, SGD, RMSprop\n",
        " \n",
        " \n",
        "model = Sequential()\n",
        "model.add(InputLayer(input_shape=(MAX_LENGTH, )))\n",
        "model.add(Embedding(len(word2index), 128))\n",
        "model.add(Bidirectional(LSTM(256, return_sequences=True)))\n",
        "model.add(TimeDistributed(Dense(len(tag2index))))\n",
        "model.add(Activation('softmax'))\n",
        " \n",
        "model.compile(loss='categorical_crossentropy',\n",
        "              optimizer=Adam(0.001),\n",
        "              metrics=['accuracy'])\n",
        " \n",
        "model.summary()"
      ],
      "metadata": {
        "id": "2P9XbkyNA1qx"
      },
      "execution_count": null,
      "outputs": []
    },
    {
      "cell_type": "markdown",
      "source": [
        "# submission"
      ],
      "metadata": {
        "id": "ehmMBd7gD0Pv"
      }
    },
    {
      "cell_type": "code",
      "source": [
        "labels = []\n",
        "for i, p in enumerate(predictions):\n",
        "  if len(p) > 0:\n",
        "    for k, v in p[0].items():\n",
        "      j = v\n",
        "  else:\n",
        "    j = 'O'\n",
        "\n",
        "  labels.append([i+1,j])\n",
        "print(len(labels) , labels[:10])"
      ],
      "metadata": {
        "id": "DPUePNFKEd9A"
      },
      "execution_count": null,
      "outputs": []
    },
    {
      "cell_type": "code",
      "source": [
        "sub = pd.DataFrame(labels, columns=['Id', 'Predicted'])\n",
        "sub"
      ],
      "metadata": {
        "id": "paaVDDqqIAoh"
      },
      "execution_count": null,
      "outputs": []
    },
    {
      "cell_type": "code",
      "source": [
        "sub.to_csv('submission.csv', columns=None, header=True, index=False)"
      ],
      "metadata": {
        "id": "nNISUg8gKHf9"
      },
      "execution_count": null,
      "outputs": []
    },
    {
      "cell_type": "code",
      "source": [
        "csv_sub = pd.read_csv('/content/submission.csv')\n",
        "csv_sub"
      ],
      "metadata": {
        "id": "fzIXoKHYR6L_"
      },
      "execution_count": null,
      "outputs": []
    },
    {
      "cell_type": "code",
      "source": [
        ""
      ],
      "metadata": {
        "id": "E4Am5X8bSiiW"
      },
      "execution_count": null,
      "outputs": []
    }
  ]
}