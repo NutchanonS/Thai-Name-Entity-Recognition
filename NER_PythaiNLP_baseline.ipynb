{
 "cells": [
  {
   "cell_type": "code",
   "execution_count": null,
   "metadata": {},
   "outputs": [],
   "source": [
    "import os\n",
    "import numpy as np\n",
    "import pandas as pd\n",
    "from tqdm import tqdm\n",
    "\n",
    "!pip install  pythainlp==3.0.3\n",
    "from pythainlp.tag.named_entity import ThaiNameTagger"
   ]
  },
  {
   "cell_type": "code",
   "execution_count": null,
   "metadata": {},
   "outputs": [],
   "source": [
    "with open('ne_test.txt') as f:\n",
    "    contents = f.read()\n",
    "words = contents.split(\"\\n\")\n",
    "wordss = words[:69561]   #deleted 2 last spaces\n",
    "\n",
    "wordsss = np.array(wordss)\n",
    "word_list = list(wordsss[0:])\n",
    "\n",
    "index = 0\n",
    "for word in word_list :\n",
    "    if word == '' : word_list[index] = ' '\n",
    "    index += 1"
   ]
  },
  {
   "cell_type": "code",
   "execution_count": null,
   "metadata": {},
   "outputs": [],
   "source": [
    "word_list[0:10]"
   ]
  },
  {
   "cell_type": "code",
   "execution_count": null,
   "metadata": {},
   "outputs": [],
   "source": [
    "predictions=[]\n",
    "for i in tqdm(range(0,69562)):\n",
    "ner = ThaiNameTagger()\n",
    "predictions_cache = ner.get_ner(list(word_list), pos=False)\n",
    "  if len(predictions_cache) > 1 : \n",
    "    predictions.append(predictions_cache[0])\n",
    "  else:\n",
    "    predictions.append(predictions_cache[0])"
   ]
  },
  {
   "cell_type": "code",
   "execution_count": null,
   "metadata": {},
   "outputs": [],
   "source": [
    "predictions_cache"
   ]
  },
  {
   "cell_type": "code",
   "execution_count": null,
   "metadata": {},
   "outputs": [],
   "source": [
    "testdfdfdf2=pd.DataFrame(predictions)\n",
    "test123456 = testdfdfdf2[1]\n",
    "test123456.to_csv('test.csv')"
   ]
  }
 ],
 "metadata": {
  "language_info": {
   "name": "python"
  },
  "orig_nbformat": 4
 },
 "nbformat": 4,
 "nbformat_minor": 2
}
